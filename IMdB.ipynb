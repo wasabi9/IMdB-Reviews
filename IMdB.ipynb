{
 "cells": [
  {
   "cell_type": "code",
   "execution_count": 5,
   "metadata": {},
   "outputs": [],
   "source": [
    "import numpy as np\n",
    "import pandas as pd\n",
    "import tensorflow as tf\n",
    "import os\n",
    "from tensorflow.keras import preprocessing\n",
    "from tensorflow.keras.layers.experimental.preprocessing import TextVectorization"
   ]
  },
  {
   "cell_type": "code",
   "execution_count": 6,
   "metadata": {},
   "outputs": [],
   "source": [
    "data_dir = 'aclImdb'"
   ]
  },
  {
   "cell_type": "code",
   "execution_count": 7,
   "metadata": {},
   "outputs": [
    {
     "name": "stdout",
     "output_type": "stream",
     "text": [
      "If you like adult comedy cartoons, like South Park, then this is nearly a similar format about the small adventures of three teenage girls at Bromwell High. Keisha, Natella and Latrina have given exploding sweets and behaved like bitches, I think Keisha is a good leader. There are also small stories going on with the teachers of the school. There's the idiotic principal, Mr. Bip, the nervous Maths teacher and many others. The cast is also fantastic, Lenny Henry's Gina Yashere, EastEnders Chrissie Watts, Tracy-Ann Oberman, Smack The Pony's Doon Mackichan, Dead Ringers' Mark Perry and Blunder's Nina Conti. I didn't know this came from Canada, but it is very good. Very good!\n"
     ]
    }
   ],
   "source": [
    "sample_file = os.path.join(data_dir,'train','pos','1_7.txt')\n",
    "with open(sample_file) as f:\n",
    "    print(f.read())"
   ]
  },
  {
   "cell_type": "code",
   "execution_count": 147,
   "metadata": {},
   "outputs": [
    {
     "name": "stdout",
     "output_type": "stream",
     "text": [
      "Found 25001 files belonging to 2 classes.\n",
      "Using 20001 files for training.\n",
      "Found 25001 files belonging to 2 classes.\n",
      "Using 5000 files for validation.\n",
      "Found 25000 files belonging to 2 classes.\n"
     ]
    }
   ],
   "source": [
    "BATCH_SIZE = 32\n",
    "SPLIT = 0.2\n",
    "MAX_FEATURES = 10000\n",
    "MAX_LEN = 100\n",
    "\n",
    "raw_data_train = preprocessing.text_dataset_from_directory(\n",
    "    os.path.join(data_dir,'train'),\n",
    "    batch_size=BATCH_SIZE,\n",
    "    validation_split=SPLIT,\n",
    "    subset='training',\n",
    "    seed=42)\n",
    "\n",
    "raw_data_val = preprocessing.text_dataset_from_directory(\n",
    "    os.path.join(data_dir,'train'),\n",
    "    batch_size=BATCH_SIZE,\n",
    "    validation_split=SPLIT,\n",
    "    subset='validation',\n",
    "    seed=42)\n",
    "\n",
    "raw_data_test = preprocessing.text_dataset_from_directory(\n",
    "    os.path.join(data_dir,'test'),\n",
    "    batch_size=BATCH_SIZE)"
   ]
  },
  {
   "cell_type": "code",
   "execution_count": 148,
   "metadata": {},
   "outputs": [],
   "source": [
    "# for text_data,label_data in raw_data_train.take(1):\n",
    "#     for i in range(BATCH_SIZE):\n",
    "#         print(\"Count : \",i+1)\n",
    "#         print(\"Text : \",text_data.numpy()[i][:10],'...')\n",
    "#         print(\"Label : \",label_data.numpy()[i])"
   ]
  },
  {
   "cell_type": "markdown",
   "metadata": {},
   "source": [
    "## EDA Functions"
   ]
  },
  {
   "cell_type": "code",
   "execution_count": 149,
   "metadata": {},
   "outputs": [],
   "source": [
    "# vectorize_layer = TextVectorization(\n",
    "#     max_tokens = MAX_FEATURES,\n",
    "#     output_mode = 'int',\n",
    "#     output_sequence_length = MAX_LEN)\n",
    "\n",
    "vectorize_layer = TextVectorization(\n",
    "    max_tokens = MAX_FEATURES,\n",
    "    output_sequence_length=MAX_LEN,\n",
    "    output_mode = 'int')\n",
    "\n",
    "train_text = raw_data_train.map(lambda text,labels: text)\n",
    "vectorize_layer.adapt(train_text)\n",
    "\n",
    "def vectorize_text(text,label) :\n",
    "    text = tf.expand_dims(text,-1)\n",
    "    return vectorize_layer(text),label\n",
    "\n",
    "train = raw_data_train.map(vectorize_text)\n",
    "val = raw_data_val.map(vectorize_text)\n",
    "test = raw_data_test.map(vectorize_text)"
   ]
  },
  {
   "cell_type": "code",
   "execution_count": 150,
   "metadata": {},
   "outputs": [],
   "source": [
    "# for text,label in train.take(1):\n",
    "#     for i in range(10):\n",
    "#         print(\"i = \",i)\n",
    "#         print(text.numpy())"
   ]
  },
  {
   "cell_type": "markdown",
   "metadata": {},
   "source": [
    "## Using the pretrained GloVe Embeddings"
   ]
  },
  {
   "cell_type": "code",
   "execution_count": 151,
   "metadata": {},
   "outputs": [],
   "source": [
    "glove_dir = 'glove.6B'\n",
    "f = open(os.path.join(glove_dir,'glove.6B.100d.txt'))\n",
    "# i=0\n",
    "embedding_index = {}\n",
    "for line in f :\n",
    "    values = line.split()\n",
    "    embedding_index[values[0]]=np.asarray(values[1:],dtype='float32')\n",
    "#     i=i+1\n",
    "#     if i == 1:\n",
    "#         break"
   ]
  },
  {
   "cell_type": "code",
   "execution_count": 152,
   "metadata": {},
   "outputs": [],
   "source": [
    "word_vocab = vectorize_layer.get_vocabulary()"
   ]
  },
  {
   "cell_type": "code",
   "execution_count": 153,
   "metadata": {},
   "outputs": [
    {
     "data": {
      "text/plain": [
       "array([0, 0, 0, ..., 0, 0, 0])"
      ]
     },
     "execution_count": 153,
     "metadata": {},
     "output_type": "execute_result"
    }
   ],
   "source": [
    "temp = vectorize_layer(word_vocab).numpy()\n",
    "temp.resize(10000)\n",
    "temp"
   ]
  },
  {
   "cell_type": "code",
   "execution_count": 154,
   "metadata": {},
   "outputs": [
    {
     "data": {
      "text/plain": [
       "10000"
      ]
     },
     "execution_count": 154,
     "metadata": {},
     "output_type": "execute_result"
    }
   ],
   "source": [
    "len(word_vocab)"
   ]
  },
  {
   "cell_type": "code",
   "execution_count": 155,
   "metadata": {},
   "outputs": [],
   "source": [
    "# word_vocab"
   ]
  },
  {
   "cell_type": "code",
   "execution_count": 156,
   "metadata": {},
   "outputs": [],
   "source": [
    "temp = vectorize_layer(word_vocab).numpy()\n",
    "temp.resize(10000)\n",
    "word_index = dict(zip(word_vocab,temp))"
   ]
  },
  {
   "cell_type": "code",
   "execution_count": 157,
   "metadata": {},
   "outputs": [],
   "source": [
    "# word_index"
   ]
  },
  {
   "cell_type": "code",
   "execution_count": 158,
   "metadata": {},
   "outputs": [],
   "source": [
    "EMBEDDING_DIM = 100\n",
    "embedding_matrix = np.zeros((MAX_FEATURES,EMBEDDING_DIM))\n",
    "\n",
    "for word,i in word_index.items():\n",
    "    if i < MAX_FEATURES :\n",
    "        embedding = embedding_index.get(word)\n",
    "        if embedding is not None :\n",
    "            embedding_matrix[i] = embedding   \n"
   ]
  },
  {
   "cell_type": "code",
   "execution_count": 142,
   "metadata": {},
   "outputs": [],
   "source": [
    "# embedding_matrix[5000]"
   ]
  },
  {
   "cell_type": "code",
   "execution_count": 117,
   "metadata": {},
   "outputs": [],
   "source": [
    "from tensorflow.keras.models import Sequential\n",
    "from tensorflow.keras.layers import Flatten, Embedding, Dense\n",
    "\n",
    "model = Sequential()\n",
    "model.add(Embedding(MAX_FEATURES,EMBEDDING_DIM,input_length=MAX_LEN))\n",
    "model.add(Flatten())\n",
    "model.add(Dense(32,activation='relu'))\n",
    "model.add(Dense(1,activation='sigmoid'))"
   ]
  },
  {
   "cell_type": "code",
   "execution_count": 118,
   "metadata": {},
   "outputs": [
    {
     "name": "stdout",
     "output_type": "stream",
     "text": [
      "Model: \"sequential_4\"\n",
      "_________________________________________________________________\n",
      "Layer (type)                 Output Shape              Param #   \n",
      "=================================================================\n",
      "embedding_4 (Embedding)      (None, 100, 100)          1000000   \n",
      "_________________________________________________________________\n",
      "flatten_4 (Flatten)          (None, 10000)             0         \n",
      "_________________________________________________________________\n",
      "dense_8 (Dense)              (None, 32)                320032    \n",
      "_________________________________________________________________\n",
      "dense_9 (Dense)              (None, 1)                 33        \n",
      "=================================================================\n",
      "Total params: 1,320,065\n",
      "Trainable params: 1,320,065\n",
      "Non-trainable params: 0\n",
      "_________________________________________________________________\n"
     ]
    }
   ],
   "source": [
    "model.summary()"
   ]
  },
  {
   "cell_type": "code",
   "execution_count": 113,
   "metadata": {},
   "outputs": [],
   "source": [
    "model.layers[0].set_weights([embedding_matrix])\n",
    "model.layers[0].trainable=False"
   ]
  },
  {
   "cell_type": "code",
   "execution_count": 119,
   "metadata": {},
   "outputs": [
    {
     "name": "stdout",
     "output_type": "stream",
     "text": [
      "Epoch 1/10\n",
      "625/625 [==============================] - 14s 21ms/step - loss: 0.5803 - acc: 0.6651 - val_loss: 0.4030 - val_acc: 0.8087\n",
      "Epoch 2/10\n",
      "625/625 [==============================] - 13s 21ms/step - loss: 0.2199 - acc: 0.9120 - val_loss: 0.5546 - val_acc: 0.7865\n",
      "Epoch 3/10\n",
      "625/625 [==============================] - 13s 20ms/step - loss: 0.0310 - acc: 0.9915 - val_loss: 0.8729 - val_acc: 0.7847\n",
      "Epoch 4/10\n",
      "625/625 [==============================] - 13s 20ms/step - loss: 0.0017 - acc: 0.9996 - val_loss: 1.1010 - val_acc: 0.7915\n",
      "Epoch 5/10\n",
      "625/625 [==============================] - 13s 21ms/step - loss: 4.5327e-05 - acc: 1.0000 - val_loss: 1.3468 - val_acc: 0.7897\n",
      "Epoch 6/10\n",
      "625/625 [==============================] - 13s 20ms/step - loss: 2.9496e-07 - acc: 1.0000 - val_loss: 1.4700 - val_acc: 0.7913\n",
      "Epoch 7/10\n",
      "625/625 [==============================] - 13s 20ms/step - loss: 7.8717e-09 - acc: 1.0000 - val_loss: 1.4996 - val_acc: 0.7903\n",
      "Epoch 8/10\n",
      "625/625 [==============================] - 13s 20ms/step - loss: 8.3365e-09 - acc: 1.0000 - val_loss: 1.5245 - val_acc: 0.7903\n",
      "Epoch 9/10\n",
      "625/625 [==============================] - 14s 23ms/step - loss: 3.4736e-09 - acc: 1.0000 - val_loss: 1.5376 - val_acc: 0.7923\n",
      "Epoch 10/10\n",
      "625/625 [==============================] - 15s 24ms/step - loss: 8.1199e-09 - acc: 1.0000 - val_loss: 1.5440 - val_acc: 0.7919\n"
     ]
    }
   ],
   "source": [
    "model.compile(loss='binary_crossentropy',optimizer='rmsprop',metrics=['acc'])\n",
    "history=model.fit(train.repeat(10),epochs=10,steps_per_epoch=int(20001/BATCH_SIZE),validation_data=val.repeat(10),validation_steps=int(5001/BATCH_SIZE))"
   ]
  },
  {
   "cell_type": "code",
   "execution_count": 120,
   "metadata": {},
   "outputs": [
    {
     "data": {
      "image/png": "[encoded data removed]",
      "text/plain": [
       "<Figure size 432x288 with 1 Axes>"
      ]
     },
     "metadata": {
      "needs_background": "light"
     },
     "output_type": "display_data"
    },
    {
     "data": {
      "image/png": "[encoded data removed]",
      "text/plain": [
       "<Figure size 432x288 with 1 Axes>"
      ]
     },
     "metadata": {
      "needs_background": "light"
     },
     "output_type": "display_data"
    }
   ],
   "source": [
    "import matplotlib.pyplot as plt\n",
    "acc = history.history['acc']\n",
    "val_acc = history.history['val_acc']\n",
    "loss = history.history['loss']\n",
    "val_loss = history.history['val_loss']\n",
    "\n",
    "epochs = range(1,len(acc)+1)\n",
    "\n",
    "plt.plot(epochs,acc,'bo',label='Training Accuracy')\n",
    "plt.plot(epochs,val_acc,'b',label='Validation Accuracy')\n",
    "plt.title('Trainig and Validation Accuracy')\n",
    "plt.legend()\n",
    "plt.show()\n",
    "\n",
    "plt.plot(epochs,loss,'bo',label='Training Loss')\n",
    "plt.plot(epochs,val_loss,'b',label='Validation Loss')\n",
    "plt.title('Training and Validation Loss')\n",
    "plt.legend()\n",
    "plt.show()"
   ]
  },
  {
   "cell_type": "code",
   "execution_count": 121,
   "metadata": {},
   "outputs": [
    {
     "name": "stdout",
     "output_type": "stream",
     "text": [
      "782/782 [==============================] - 7s 8ms/step - loss: 1.6476 - acc: 0.7711\n"
     ]
    },
    {
     "data": {
      "text/plain": [
       "[1.6475614309310913, 0.771120011806488]"
      ]
     },
     "execution_count": 121,
     "metadata": {},
     "output_type": "execute_result"
    }
   ],
   "source": [
    "model.evaluate(test)"
   ]
  },
  {
   "cell_type": "code",
   "execution_count": 172,
   "metadata": {},
   "outputs": [
    {
     "name": "stdout",
     "output_type": "stream",
     "text": [
      "Model: \"sequential_17\"\n",
      "_________________________________________________________________\n",
      "Layer (type)                 Output Shape              Param #   \n",
      "=================================================================\n",
      "embedding_17 (Embedding)     (None, None, 100)         1000000   \n",
      "_________________________________________________________________\n",
      "lstm_2 (LSTM)                (None, 32)                17024     \n",
      "_________________________________________________________________\n",
      "dense_21 (Dense)             (None, 1)                 33        \n",
      "=================================================================\n",
      "Total params: 1,017,057\n",
      "Trainable params: 1,017,057\n",
      "Non-trainable params: 0\n",
      "_________________________________________________________________\n"
     ]
    }
   ],
   "source": [
    "from tensorflow.keras.models import Sequential\n",
    "from tensorflow.keras.layers import SimpleRNN, Embedding, Dense, LSTM\n",
    "\n",
    "model = Sequential()\n",
    "model.add(Embedding(MAX_FEATURES,EMBEDDING_DIM))\n",
    "# model.add(Flatten())\n",
    "# model.add(Dense(32,activation='relu'))\n",
    "# model.add(SimpleRNN(32,return_sequences=True))\n",
    "# model.add(SimpleRNN(32,return_sequences=True))\n",
    "model.add(LSTM(32))\n",
    "model.add(Dense(1,activation='sigmoid'))\n",
    "model.summary()"
   ]
  },
  {
   "cell_type": "code",
   "execution_count": 173,
   "metadata": {},
   "outputs": [],
   "source": [
    "# model.layers[0].set_weights([embedding_matrix])\n",
    "# model.layers[0].trainable=False"
   ]
  },
  {
   "cell_type": "code",
   "execution_count": 174,
   "metadata": {},
   "outputs": [
    {
     "name": "stdout",
     "output_type": "stream",
     "text": [
      "Epoch 1/5\n",
      "625/625 [==============================] - 40s 60ms/step - loss: 0.6013 - acc: 0.6619 - val_loss: 0.4167 - val_acc: 0.8115\n",
      "Epoch 2/5\n",
      "625/625 [==============================] - 39s 62ms/step - loss: 0.3649 - acc: 0.8471 - val_loss: 0.3906 - val_acc: 0.8249\n",
      "Epoch 3/5\n",
      "625/625 [==============================] - 38s 60ms/step - loss: 0.3069 - acc: 0.8767 - val_loss: 0.3948 - val_acc: 0.8257\n",
      "Epoch 4/5\n",
      "625/625 [==============================] - 42s 67ms/step - loss: 0.2700 - acc: 0.8933 - val_loss: 0.5323 - val_acc: 0.8235\n",
      "Epoch 5/5\n",
      "625/625 [==============================] - 45s 72ms/step - loss: 0.2543 - acc: 0.9027 - val_loss: 0.4000 - val_acc: 0.8235\n"
     ]
    }
   ],
   "source": [
    "# model.layers[0].set_weights([embedding_matrix])\n",
    "# model.layers[0].trainable=False\n",
    "model.compile(loss='binary_crossentropy',optimizer='rmsprop',metrics=['acc'])\n",
    "history=model.fit(train.repeat(5),epochs=5,steps_per_epoch=int(20001/BATCH_SIZE),validation_data=val.repeat(5),validation_steps=int(5001/BATCH_SIZE))"
   ]
  },
  {
   "cell_type": "code",
   "execution_count": null,
   "metadata": {},
   "outputs": [],
   "source": [
    "import matplotlib.pyplot as plt\n",
    "acc = history.history['acc']\n",
    "val_acc = history.history['val_acc']\n",
    "loss = history.history['loss']\n",
    "val_loss = history.history['val_loss']\n",
    "\n",
    "epochs = range(1,len(acc)+1)\n",
    "\n",
    "plt.plot(epochs,acc,'bo',label='Training Accuracy')\n",
    "plt.plot(epochs,val_acc,'b',label='Validation Accuracy')\n",
    "plt.title('Trainig and Validation Accuracy')\n",
    "plt.legend()\n",
    "plt.show()\n",
    "\n",
    "plt.plot(epochs,loss,'bo',label='Training Loss')\n",
    "plt.plot(epochs,val_loss,'b',label='Validation Loss')\n",
    "plt.title('Training and Validation Loss')\n",
    "plt.legend()\n",
    "plt.show()"
   ]
  }
 ],
 "metadata": {
  "kernelspec": {
   "display_name": "Python 3",
   "language": "python",
   "name": "python3"
  },
  "language_info": {
   "codemirror_mode": {
    "name": "ipython",
    "version": 3
   },
   "file_extension": ".py",
   "mimetype": "text/x-python",
   "name": "python",
   "nbconvert_exporter": "python",
   "pygments_lexer": "ipython3",
   "version": "3.8.6"
  }
 },
 "nbformat": 4,
 "nbformat_minor": 4
}
